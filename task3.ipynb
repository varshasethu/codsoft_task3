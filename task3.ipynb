{
 "cells": [
  {
   "cell_type": "code",
   "execution_count": null,
   "id": "caf11c32-eeba-4176-92e3-4db39809f0a9",
   "metadata": {},
   "outputs": [],
   "source": [
    "# Iris Flower Classification\n",
    "\n",
    "# Step 1: Importing Libraries\n",
    "from sklearn.datasets import load_iris\n",
    "from sklearn.model_selection import train_test_split\n",
    "from sklearn.ensemble import RandomForestClassifier\n",
    "from sklearn.metrics import accuracy_score, classification_report, confusion_matrix\n",
    "import seaborn as sns\n",
    "import matplotlib.pyplot as plt\n"
   ]
  },
  {
   "cell_type": "code",
   "execution_count": null,
   "id": "965c208d-388f-44f6-885d-b9e315cb6bd6",
   "metadata": {},
   "outputs": [],
   "source": [
    "# Step 2: Importing Dataset\n",
    "iris = load_iris()\n",
    "X = pd.DataFrame(iris.data, columns=iris.feature_names)\n",
    "y = iris.target\n",
    "target_names = iris.target_names\n"
   ]
  },
  {
   "cell_type": "code",
   "execution_count": null,
   "id": "0f61f104-d988-483b-b4b0-a12f9d4a4f15",
   "metadata": {},
   "outputs": [],
   "source": [
    "\n",
    "# Step 3: Splitting the Dataset\n",
    "X_train, X_test, y_train, y_test = train_test_split(X, y, test_size=0.2, random_state=42)"
   ]
  },
  {
   "cell_type": "code",
   "execution_count": null,
   "id": "3c564c48-df73-4503-b03d-d22d21cc80fc",
   "metadata": {},
   "outputs": [],
   "source": [
    "# Step 4: Model Training\n",
    "model = RandomForestClassifier(random_state=42)\n",
    "model.fit(X_train, y_train)\n"
   ]
  },
  {
   "cell_type": "code",
   "execution_count": null,
   "id": "44a89c27-f167-4265-8746-9b3c39149bc5",
   "metadata": {},
   "outputs": [],
   "source": [
    "# Step 5: Model Prediction\n",
    "y_pred = model.predict(X_test)\n"
   ]
  },
  {
   "cell_type": "code",
   "execution_count": null,
   "id": "bc85cc1f-1b03-4cf0-842b-2ce0bf2c8925",
   "metadata": {},
   "outputs": [],
   "source": [
    "# Step 6: Data Visualization and Evaluation\n",
    "# Confusion Matrix\n",
    "conf_matrix = confusion_matrix(y_test, y_pred)\n",
    "sns.heatmap(conf_matrix, annot=True, cmap='Blues', xticklabels=target_names, yticklabels=target_names)\n",
    "plt.title(\"Confusion Matrix for Iris Flower Classification\")\n",
    "plt.xlabel(\"Predicted\")\n",
    "plt.ylabel(\"Actual\")\n",
    "plt.show()\n"
   ]
  },
  {
   "cell_type": "code",
   "execution_count": null,
   "id": "ea93c1c3-1c42-42b9-b5b0-7959ec78206d",
   "metadata": {},
   "outputs": [],
   "source": [
    "# Feature Importance\n",
    "sns.barplot(x=model.feature_importances_, y=X.columns)\n",
    "plt.title(\"Feature Importance for Iris Flower Classification\")\n",
    "plt.show()\n",
    "\n"
   ]
  },
  {
   "cell_type": "code",
   "execution_count": null,
   "id": "a69656db-d340-4a36-ae24-8393656b1750",
   "metadata": {},
   "outputs": [],
   "source": [
    "# Evaluation Metrics\n",
    "print(\"Accuracy:\", accuracy_score(y_test, y_pred))\n",
    "print(\"Classification Report:\\n\", classification_report(y_test, y_pred, target_names=target_names))"
   ]
  }
 ],
 "metadata": {
  "kernelspec": {
   "display_name": "Python 3 (ipykernel)",
   "language": "python",
   "name": "python3"
  },
  "language_info": {
   "codemirror_mode": {
    "name": "ipython",
    "version": 3
   },
   "file_extension": ".py",
   "mimetype": "text/x-python",
   "name": "python",
   "nbconvert_exporter": "python",
   "pygments_lexer": "ipython3",
   "version": "3.12.7"
  }
 },
 "nbformat": 4,
 "nbformat_minor": 5
}
